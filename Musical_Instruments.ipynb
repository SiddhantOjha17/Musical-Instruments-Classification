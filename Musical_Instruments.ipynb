{
 "cells": [
  {
   "cell_type": "code",
   "execution_count": 3,
   "metadata": {
    "id": "jRz-87mDNgU6",
    "pycharm": {
     "name": "#%%\n"
    }
   },
   "outputs": [
    {
     "ename": "ImportError",
     "evalue": "cannot import name 'builder' from 'google.protobuf.internal' (c:\\users\\siddhant\\pycharmprojects\\siddhant_python\\venv\\lib\\site-packages\\google\\protobuf\\internal\\__init__.py)",
     "output_type": "error",
     "traceback": [
      "\u001B[1;31m---------------------------------------------------------------------------\u001B[0m",
      "\u001B[1;31mImportError\u001B[0m                               Traceback (most recent call last)",
      "Input \u001B[1;32mIn [3]\u001B[0m, in \u001B[0;36m<cell line: 8>\u001B[1;34m()\u001B[0m\n\u001B[0;32m      6\u001B[0m \u001B[38;5;66;03m# import torchaudio\u001B[39;00m\n\u001B[0;32m      7\u001B[0m \u001B[38;5;28;01mfrom\u001B[39;00m \u001B[38;5;21;01mtorchaudio\u001B[39;00m \u001B[38;5;28;01mimport\u001B[39;00m transforms\n\u001B[1;32m----> 8\u001B[0m \u001B[38;5;28;01mimport\u001B[39;00m \u001B[38;5;21;01mstreamlit\u001B[39;00m \u001B[38;5;28;01mas\u001B[39;00m \u001B[38;5;21;01mst\u001B[39;00m\n\u001B[0;32m      9\u001B[0m \u001B[38;5;28;01mfrom\u001B[39;00m \u001B[38;5;21;01mIPython\u001B[39;00m\u001B[38;5;21;01m.\u001B[39;00m\u001B[38;5;21;01mdisplay\u001B[39;00m \u001B[38;5;28;01mimport\u001B[39;00m Audio\n",
      "File \u001B[1;32mc:\\users\\siddhant\\pycharmprojects\\siddhant_python\\venv\\lib\\site-packages\\streamlit\\__init__.py:55\u001B[0m, in \u001B[0;36m<module>\u001B[1;34m\u001B[0m\n\u001B[0;32m     52\u001B[0m \u001B[38;5;66;03m# Give the package a version.\u001B[39;00m\n\u001B[0;32m     53\u001B[0m __version__ \u001B[38;5;241m=\u001B[39m _STREAMLIT_VERSION_STRING\n\u001B[1;32m---> 55\u001B[0m \u001B[38;5;28;01mfrom\u001B[39;00m \u001B[38;5;21;01mstreamlit\u001B[39;00m\u001B[38;5;21;01m.\u001B[39;00m\u001B[38;5;21;01mdelta_generator\u001B[39;00m \u001B[38;5;28;01mimport\u001B[39;00m DeltaGenerator \u001B[38;5;28;01mas\u001B[39;00m _DeltaGenerator\n\u001B[0;32m     56\u001B[0m \u001B[38;5;28;01mfrom\u001B[39;00m \u001B[38;5;21;01mstreamlit\u001B[39;00m\u001B[38;5;21;01m.\u001B[39;00m\u001B[38;5;21;01mproto\u001B[39;00m\u001B[38;5;21;01m.\u001B[39;00m\u001B[38;5;21;01mRootContainer_pb2\u001B[39;00m \u001B[38;5;28;01mimport\u001B[39;00m RootContainer \u001B[38;5;28;01mas\u001B[39;00m _RootContainer\n\u001B[0;32m     57\u001B[0m \u001B[38;5;28;01mfrom\u001B[39;00m \u001B[38;5;21;01mstreamlit\u001B[39;00m\u001B[38;5;21;01m.\u001B[39;00m\u001B[38;5;21;01mruntime\u001B[39;00m\u001B[38;5;21;01m.\u001B[39;00m\u001B[38;5;21;01mcaching\u001B[39;00m \u001B[38;5;28;01mimport\u001B[39;00m (\n\u001B[0;32m     58\u001B[0m     singleton \u001B[38;5;28;01mas\u001B[39;00m _singleton,\n\u001B[0;32m     59\u001B[0m     memo \u001B[38;5;28;01mas\u001B[39;00m _memo,\n\u001B[0;32m     60\u001B[0m )\n",
      "File \u001B[1;32mc:\\users\\siddhant\\pycharmprojects\\siddhant_python\\venv\\lib\\site-packages\\streamlit\\delta_generator.py:38\u001B[0m, in \u001B[0;36m<module>\u001B[1;34m\u001B[0m\n\u001B[0;32m     35\u001B[0m \u001B[38;5;28;01mimport\u001B[39;00m \u001B[38;5;21;01mclick\u001B[39;00m\n\u001B[0;32m     36\u001B[0m \u001B[38;5;28;01mfrom\u001B[39;00m \u001B[38;5;21;01mtyping_extensions\u001B[39;00m \u001B[38;5;28;01mimport\u001B[39;00m Final, Literal\n\u001B[1;32m---> 38\u001B[0m \u001B[38;5;28;01mfrom\u001B[39;00m \u001B[38;5;21;01mstreamlit\u001B[39;00m \u001B[38;5;28;01mimport\u001B[39;00m config, cursor, env_util, logger, runtime, type_util, util\n\u001B[0;32m     39\u001B[0m \u001B[38;5;28;01mfrom\u001B[39;00m \u001B[38;5;21;01mstreamlit\u001B[39;00m\u001B[38;5;21;01m.\u001B[39;00m\u001B[38;5;21;01mcursor\u001B[39;00m \u001B[38;5;28;01mimport\u001B[39;00m Cursor\n\u001B[0;32m     40\u001B[0m \u001B[38;5;28;01mfrom\u001B[39;00m \u001B[38;5;21;01mstreamlit\u001B[39;00m\u001B[38;5;21;01m.\u001B[39;00m\u001B[38;5;21;01melements\u001B[39;00m\u001B[38;5;21;01m.\u001B[39;00m\u001B[38;5;21;01malert\u001B[39;00m \u001B[38;5;28;01mimport\u001B[39;00m AlertMixin\n",
      "File \u001B[1;32mc:\\users\\siddhant\\pycharmprojects\\siddhant_python\\venv\\lib\\site-packages\\streamlit\\cursor.py:18\u001B[0m, in \u001B[0;36m<module>\u001B[1;34m\u001B[0m\n\u001B[0;32m     15\u001B[0m \u001B[38;5;28;01mfrom\u001B[39;00m \u001B[38;5;21;01mtyping\u001B[39;00m \u001B[38;5;28;01mimport\u001B[39;00m Any, List, Optional, Tuple\n\u001B[0;32m     17\u001B[0m \u001B[38;5;28;01mfrom\u001B[39;00m \u001B[38;5;21;01mstreamlit\u001B[39;00m \u001B[38;5;28;01mimport\u001B[39;00m util\n\u001B[1;32m---> 18\u001B[0m \u001B[38;5;28;01mfrom\u001B[39;00m \u001B[38;5;21;01mstreamlit\u001B[39;00m\u001B[38;5;21;01m.\u001B[39;00m\u001B[38;5;21;01mruntime\u001B[39;00m\u001B[38;5;21;01m.\u001B[39;00m\u001B[38;5;21;01mscriptrunner\u001B[39;00m \u001B[38;5;28;01mimport\u001B[39;00m get_script_run_ctx\n\u001B[0;32m     21\u001B[0m \u001B[38;5;28;01mdef\u001B[39;00m \u001B[38;5;21mmake_delta_path\u001B[39m(\n\u001B[0;32m     22\u001B[0m     root_container: \u001B[38;5;28mint\u001B[39m, parent_path: Tuple[\u001B[38;5;28mint\u001B[39m, \u001B[38;5;241m.\u001B[39m\u001B[38;5;241m.\u001B[39m\u001B[38;5;241m.\u001B[39m], index: \u001B[38;5;28mint\u001B[39m\n\u001B[0;32m     23\u001B[0m ) \u001B[38;5;241m-\u001B[39m\u001B[38;5;241m>\u001B[39m List[\u001B[38;5;28mint\u001B[39m]:\n\u001B[0;32m     24\u001B[0m     delta_path \u001B[38;5;241m=\u001B[39m [root_container]\n",
      "File \u001B[1;32mc:\\users\\siddhant\\pycharmprojects\\siddhant_python\\venv\\lib\\site-packages\\streamlit\\runtime\\__init__.py:16\u001B[0m, in \u001B[0;36m<module>\u001B[1;34m\u001B[0m\n\u001B[0;32m      1\u001B[0m \u001B[38;5;66;03m# Copyright (c) Streamlit Inc. (2018-2022) Snowflake Inc. (2022)\u001B[39;00m\n\u001B[0;32m      2\u001B[0m \u001B[38;5;66;03m#\u001B[39;00m\n\u001B[0;32m      3\u001B[0m \u001B[38;5;66;03m# Licensed under the Apache License, Version 2.0 (the \"License\");\u001B[39;00m\n\u001B[1;32m   (...)\u001B[0m\n\u001B[0;32m     14\u001B[0m \n\u001B[0;32m     15\u001B[0m \u001B[38;5;66;03m# Explicitly re-export public symbols from runtime.py\u001B[39;00m\n\u001B[1;32m---> 16\u001B[0m \u001B[38;5;28;01mfrom\u001B[39;00m \u001B[38;5;21;01mstreamlit\u001B[39;00m\u001B[38;5;21;01m.\u001B[39;00m\u001B[38;5;21;01mruntime\u001B[39;00m\u001B[38;5;21;01m.\u001B[39;00m\u001B[38;5;21;01mruntime\u001B[39;00m \u001B[38;5;28;01mimport\u001B[39;00m Runtime \u001B[38;5;28;01mas\u001B[39;00m Runtime\n\u001B[0;32m     17\u001B[0m \u001B[38;5;28;01mfrom\u001B[39;00m \u001B[38;5;21;01mstreamlit\u001B[39;00m\u001B[38;5;21;01m.\u001B[39;00m\u001B[38;5;21;01mruntime\u001B[39;00m\u001B[38;5;21;01m.\u001B[39;00m\u001B[38;5;21;01mruntime\u001B[39;00m \u001B[38;5;28;01mimport\u001B[39;00m RuntimeConfig \u001B[38;5;28;01mas\u001B[39;00m RuntimeConfig\n\u001B[0;32m     18\u001B[0m \u001B[38;5;28;01mfrom\u001B[39;00m \u001B[38;5;21;01mstreamlit\u001B[39;00m\u001B[38;5;21;01m.\u001B[39;00m\u001B[38;5;21;01mruntime\u001B[39;00m\u001B[38;5;21;01m.\u001B[39;00m\u001B[38;5;21;01mruntime\u001B[39;00m \u001B[38;5;28;01mimport\u001B[39;00m RuntimeState \u001B[38;5;28;01mas\u001B[39;00m RuntimeState\n",
      "File \u001B[1;32mc:\\users\\siddhant\\pycharmprojects\\siddhant_python\\venv\\lib\\site-packages\\streamlit\\runtime\\runtime.py:26\u001B[0m, in \u001B[0;36m<module>\u001B[1;34m\u001B[0m\n\u001B[0;32m     24\u001B[0m \u001B[38;5;28;01mfrom\u001B[39;00m \u001B[38;5;21;01mstreamlit\u001B[39;00m \u001B[38;5;28;01mimport\u001B[39;00m config\n\u001B[0;32m     25\u001B[0m \u001B[38;5;28;01mfrom\u001B[39;00m \u001B[38;5;21;01mstreamlit\u001B[39;00m\u001B[38;5;21;01m.\u001B[39;00m\u001B[38;5;21;01mlogger\u001B[39;00m \u001B[38;5;28;01mimport\u001B[39;00m get_logger\n\u001B[1;32m---> 26\u001B[0m \u001B[38;5;28;01mfrom\u001B[39;00m \u001B[38;5;21;01mstreamlit\u001B[39;00m\u001B[38;5;21;01m.\u001B[39;00m\u001B[38;5;21;01mproto\u001B[39;00m\u001B[38;5;21;01m.\u001B[39;00m\u001B[38;5;21;01mBackMsg_pb2\u001B[39;00m \u001B[38;5;28;01mimport\u001B[39;00m BackMsg\n\u001B[0;32m     27\u001B[0m \u001B[38;5;28;01mfrom\u001B[39;00m \u001B[38;5;21;01mstreamlit\u001B[39;00m\u001B[38;5;21;01m.\u001B[39;00m\u001B[38;5;21;01mproto\u001B[39;00m\u001B[38;5;21;01m.\u001B[39;00m\u001B[38;5;21;01mForwardMsg_pb2\u001B[39;00m \u001B[38;5;28;01mimport\u001B[39;00m ForwardMsg\n\u001B[0;32m     28\u001B[0m \u001B[38;5;28;01mfrom\u001B[39;00m \u001B[38;5;21;01mstreamlit\u001B[39;00m\u001B[38;5;21;01m.\u001B[39;00m\u001B[38;5;21;01mruntime\u001B[39;00m\u001B[38;5;21;01m.\u001B[39;00m\u001B[38;5;21;01mapp_session\u001B[39;00m \u001B[38;5;28;01mimport\u001B[39;00m AppSession\n",
      "File \u001B[1;32mc:\\users\\siddhant\\pycharmprojects\\siddhant_python\\venv\\lib\\site-packages\\streamlit\\proto\\BackMsg_pb2.py:5\u001B[0m, in \u001B[0;36m<module>\u001B[1;34m\u001B[0m\n\u001B[0;32m      1\u001B[0m \u001B[38;5;66;03m# -*- coding: utf-8 -*-\u001B[39;00m\n\u001B[0;32m      2\u001B[0m \u001B[38;5;66;03m# Generated by the protocol buffer compiler.  DO NOT EDIT!\u001B[39;00m\n\u001B[0;32m      3\u001B[0m \u001B[38;5;66;03m# source: streamlit/proto/BackMsg.proto\u001B[39;00m\n\u001B[0;32m      4\u001B[0m \u001B[38;5;124;03m\"\"\"Generated protocol buffer code.\"\"\"\u001B[39;00m\n\u001B[1;32m----> 5\u001B[0m \u001B[38;5;28;01mfrom\u001B[39;00m \u001B[38;5;21;01mgoogle\u001B[39;00m\u001B[38;5;21;01m.\u001B[39;00m\u001B[38;5;21;01mprotobuf\u001B[39;00m\u001B[38;5;21;01m.\u001B[39;00m\u001B[38;5;21;01minternal\u001B[39;00m \u001B[38;5;28;01mimport\u001B[39;00m builder \u001B[38;5;28;01mas\u001B[39;00m _builder\n\u001B[0;32m      6\u001B[0m \u001B[38;5;28;01mfrom\u001B[39;00m \u001B[38;5;21;01mgoogle\u001B[39;00m\u001B[38;5;21;01m.\u001B[39;00m\u001B[38;5;21;01mprotobuf\u001B[39;00m \u001B[38;5;28;01mimport\u001B[39;00m descriptor \u001B[38;5;28;01mas\u001B[39;00m _descriptor\n\u001B[0;32m      7\u001B[0m \u001B[38;5;28;01mfrom\u001B[39;00m \u001B[38;5;21;01mgoogle\u001B[39;00m\u001B[38;5;21;01m.\u001B[39;00m\u001B[38;5;21;01mprotobuf\u001B[39;00m \u001B[38;5;28;01mimport\u001B[39;00m descriptor_pool \u001B[38;5;28;01mas\u001B[39;00m _descriptor_pool\n",
      "\u001B[1;31mImportError\u001B[0m: cannot import name 'builder' from 'google.protobuf.internal' (c:\\users\\siddhant\\pycharmprojects\\siddhant_python\\venv\\lib\\site-packages\\google\\protobuf\\internal\\__init__.py)"
     ]
    }
   ],
   "source": [
    "import pandas as pd\n",
    "import os\n",
    "import numpy as np \n",
    "import math, random\n",
    "import torch\n",
    "# import torchaudio\n",
    "from torchaudio import transforms\n",
    "import streamlit as st\n",
    "from IPython.display import Audio"
   ]
  },
  {
   "cell_type": "code",
   "execution_count": null,
   "metadata": {
    "id": "zcbb8LURQWdH",
    "pycharm": {
     "name": "#%%\n"
    }
   },
   "outputs": [],
   "source": [
    "sitar_files = r\"C:\\Users\\Siddhant\\Downloads\\Musical instruments\\Sitar\\wav\"\n",
    "violin_files = r\"C:\\Users\\Siddhant\\Downloads\\Musical instruments\\Violin\"\n",
    "mohanveena_files = r\"C:\\Users\\Siddhant\\Downloads\\Musical instruments\\Mohan veena\\.wav\""
   ]
  },
  {
   "cell_type": "markdown",
   "metadata": {
    "id": "am3EEzN252WF",
    "pycharm": {
     "name": "#%% md\n"
    }
   },
   "source": [
    "# Pre-Processing"
   ]
  },
  {
   "cell_type": "code",
   "execution_count": null,
   "metadata": {
    "id": "lBxth5xflt0T",
    "pycharm": {
     "name": "#%%\n"
    }
   },
   "outputs": [],
   "source": [
    "class AudioProcessing():\n",
    "\n",
    "  \"\"\"\n",
    "  open method is used to load the audio file and returns your signal as a Tensor and sampling rate\n",
    "  Tensors are like multi-dimensional arrays with a uniform type\n",
    "  \"\"\"\n",
    "\n",
    "  @staticmethod\n",
    "  def open(audio_file_path):\n",
    "    data, sampling_rate = torchaudio.load(audio_file_path)\n",
    "    return (data, sampling_rate)\n",
    "         \n",
    "\n",
    "  \"\"\"\n",
    "  rechannel method: signals can either be mono or stereo. This method is used to get all our signals in the same dimensions.\n",
    "  It converts all mono signals to stereo by duplicating the first channel\n",
    "  Link for difference between mono/stereo : https://www.rowkin.com/blogs/rowkin/mono-vs-stereo-sound-whats-the-big-difference \n",
    "  \"\"\"\n",
    "#channels stereo/mono\n",
    "  @staticmethod\n",
    "  def rechannel(audio_file, new_channel):\n",
    "    data, sampling_rate = audio_file\n",
    "\n",
    "    if (data.shape[0] == new_channel):\n",
    "      return audio_file\n",
    "\n",
    "    if (new_channel == 1):\n",
    "      # stereo to mono\n",
    "      resig = data[:1, :]\n",
    "    else:\n",
    "      # mono to stereo by duplicating\n",
    "      resig = torch.cat([data, data])\n",
    "\n",
    "    return ((resig, sampling_rate))\n",
    "\n",
    "  \"\"\"\n",
    "  resampling method: our audio signals have different sampling rates as well. Hence, We need to standardise the sampling rate.\n",
    "  Different sampling rates result in different array sizes. Ex: sr - 40000Hz means array size of 400000 whereas 40010Hz means aaray size of 40010\n",
    "  After standardisation we get all arrays of the same size\n",
    "  \"\"\"\n",
    "#resample one at a time and merge\n",
    "  @staticmethod\n",
    "  def resample(audio, new_sampling_rate):\n",
    "    data, sampling_rate = audio\n",
    "\n",
    "    if (sampling_rate == new_sampling_rate):\n",
    "      return audio\n",
    "\n",
    "    num_channels = data.shape[0]\n",
    "    resig = torchaudio.transforms.Resample(sampling_rate, new_sampling_rate)(data[:1,:])\n",
    "    if (num_channels > 1):\n",
    "      retwo = torchaudio.transforms.Resample(sampling_rate, new_sampling_rate)(data[1:,:])\n",
    "      resig = torch.cat([resig, retwo])\n",
    "\n",
    "    return ((resig, new_sampling_rate))\n",
    "\n",
    "  \"\"\"\n",
    "  pad_trunc method: Our audio files are bound to be of different lengths of time. This also needs to be standardised.\n",
    "  This method either extends the length by padding with silence (Zero Padding) or reduces the length by truncating\n",
    "  \"\"\"\n",
    "  @staticmethod\n",
    "  def pad_trunc(audio, max_ms):\n",
    "    data, sampling_rate = audio\n",
    "    num_rows, data_len = data.shape\n",
    "    max_len = sampling_rate//1000 * max_ms\n",
    "\n",
    "    if (data_len > max_len): \n",
    "      # truncate to given length\n",
    "      data = data[:,:max_len]\n",
    "\n",
    "    elif (data_len < max_len):\n",
    "      # padding at the start and end of the audio\n",
    "      pad_begin_len = random.randint(0, max_len - data_len) #fill with random no between at 0 upto the extra time(maxlen-datalen)\n",
    "      pad_end_len = max_len - data_len - pad_begin_len\n",
    "\n",
    "      # Pad with 0s - Zero Padding\n",
    "      pad_begin = torch.zeros((num_rows, pad_begin_len))\n",
    "      pad_end = torch.zeros((num_rows, pad_end_len))\n",
    "\n",
    "      data = torch.cat((pad_begin, data, pad_end), 1)\n",
    "      \n",
    "    return (data, sampling_rate)\n",
    "\n",
    " \n",
    "  # Spectrogram finally!!!\n",
    "  \"\"\"\n",
    "  spectrogram method: \n",
    "  Link for short explanation: https://colab.research.google.com/drive/1UgxygdrBfq7UGjhTCc9oupA-CyKFGhGa#scrollTo=733XclBe9Vgn\n",
    "  \"\"\"\n",
    "  @staticmethod\n",
    "  def spectro_gram(aud, n_mels=64, n_fft=1024, hop_len=None):\n",
    "    sig,sr = aud\n",
    "    top_db = 80\n",
    "\n",
    "    # spec has shape [channel, n_mels, time], where channel is mono, stereo etc\n",
    "    spec = transforms.MelSpectrogram(sr, n_fft=n_fft, hop_length=hop_len, n_mels=n_mels)(sig)\n",
    "\n",
    "    # Convert to decibels\n",
    "    spec = transforms.AmplitudeToDB(top_db=top_db)(spec)\n",
    "    return (spec)\n",
    "\n",
    "  "
   ]
  },
  {
   "cell_type": "code",
   "execution_count": null,
   "metadata": {
    "id": "kJVnUvSwpyzi",
    "pycharm": {
     "name": "#%%\n"
    }
   },
   "outputs": [],
   "source": [
    "def data_processing(folder):\n",
    "    \n",
    "  spectrograms = []\n",
    "  new_channel = 2                   #making all stereo sounds\n",
    "  new_sampling_rate = 44100         #permanently setting a standard rate\n",
    "  duration = 6000                   #setting a standard audio length of 6s, 6000ms\n",
    "\n",
    "  # looping over every files in the folder of musical instrument for ex: sitar\n",
    "  for i in os.listdir(folder):\n",
    "  \n",
    "    audio = AudioProcessing.open(os.path.join(folder,i))\n",
    "    resampled_audio = AudioProcessing.resample(audio, new_sampling_rate)\n",
    "    rechanneled_audio = AudioProcessing.rechannel(resampled_audio, new_channel)\n",
    "    padded_audio = AudioProcessing.pad_trunc(rechanneled_audio, duration)\n",
    "    spectro_gram = AudioProcessing.spectro_gram(padded_audio, n_mels=64, n_fft=1024, hop_len=None)\n",
    "    spectrograms.append(spectro_gram) \n",
    "  return spectrograms\n",
    "\n",
    "\n",
    "# def data_processing_st(folder):\n",
    "#     spectrograms = []\n",
    "#     new_channel = 2  # making all stereo sounds\n",
    "#     new_sampling_rate = 44100  # permanently setting a standard rate\n",
    "#     duration = 6000  # setting a standard audio length of 6s, 6000ms\n",
    "#\n",
    "#     # looping over every files in the folder of musical instrument for ex: sitar\n",
    "#     for i in os.listdir(folder):\n",
    "#         audio = AudioProcessing.open(os.path.join(folder, i))\n",
    "#         resampled_audio = AudioProcessing.resample(audio, new_sampling_rate)\n",
    "#         rechanneled_audio = AudioProcessing.rechannel(resampled_audio, new_channel)\n",
    "#         padded_audio = AudioProcessing.pad_trunc(rechanneled_audio, duration)\n",
    "#         spectro_gram = AudioProcessing.spectro_gram(padded_audio, n_mels=64, n_fft=1024, hop_len=None)\n",
    "#         spectrograms.append(spectro_gram)\n",
    "#     return spectrograms\n"
   ]
  },
  {
   "cell_type": "code",
   "execution_count": null,
   "metadata": {
    "colab": {
     "base_uri": "https://localhost:8080/"
    },
    "id": "7SaG_SBLtJXl",
    "outputId": "14cb5cae-4d30-40d8-bf09-5a905107e4b9",
    "pycharm": {
     "name": "#%%\n"
    }
   },
   "outputs": [],
   "source": [
    "violin_spectrograms  = data_processing(violin_files) #cls id = 0 \n",
    "violin_arr_list = []\n",
    "for i in violin_spectrograms:\n",
    "  arr = i.numpy()\n",
    "  violin_arr_list.append(arr)\n",
    "violin_arr = np.array(violin_arr_list)\n",
    "print(violin_arr.shape)\n",
    "\n",
    "\n",
    "mohanveena_spectrograms  = data_processing(mohanveena_files) #cls id = 1 \n",
    "mohanveena_arr_list = []\n",
    "for i in mohanveena_spectrograms:\n",
    "  arr = i.numpy()\n",
    "  mohanveena_arr_list.append(arr)\n",
    "mohanveena_arr = np.array(mohanveena_arr_list)\n",
    "print(mohanveena_arr.shape)\n",
    "\n",
    "\n",
    "sitar_spectrograms  = data_processing(sitar_files) #cls id = 2\n",
    "sitar_arr_list = []\n",
    "for i in sitar_spectrograms:\n",
    "  arr = i.numpy()\n",
    "  sitar_arr_list.append(arr)\n",
    "sitar_arr = np.array(sitar_arr_list)\n",
    "print(sitar_arr.shape)"
   ]
  },
  {
   "cell_type": "code",
   "execution_count": null,
   "outputs": [],
   "source": [],
   "metadata": {
    "collapsed": false,
    "pycharm": {
     "name": "#%%\n"
    }
   }
  },
  {
   "cell_type": "code",
   "execution_count": null,
   "metadata": {
    "colab": {
     "base_uri": "https://localhost:8080/"
    },
    "id": "C3PHH2Vh11RF",
    "outputId": "1107cd77-1acf-4754-a81c-344e9f243850",
    "pycharm": {
     "name": "#%%\n"
    }
   },
   "outputs": [],
   "source": [
    "y1 = np.zeros(6) \n",
    "y2 = np.ones(10)\n",
    "y3 = np.full(10,2)\n",
    "print(y1.shape)\n",
    "print(y2.shape)\n",
    "print(y3.shape)\n",
    "y = np.concatenate((y1,y2,y3), axis=0)\n",
    "print(y.shape)\n",
    "y = y.reshape(26,1)\n",
    "print(y.shape)"
   ]
  },
  {
   "cell_type": "code",
   "execution_count": null,
   "metadata": {
    "colab": {
     "base_uri": "https://localhost:8080/"
    },
    "id": "nlKlF-3r11dV",
    "outputId": "edb817d5-526b-4b35-a0d9-010320e6e3a1",
    "pycharm": {
     "name": "#%%\n"
    }
   },
   "outputs": [],
   "source": [
    "x = np.concatenate((violin_arr,mohanveena_arr,sitar_arr),axis=0)\n",
    "print(x.shape)"
   ]
  },
  {
   "cell_type": "markdown",
   "metadata": {
    "id": "KBkwyWBT593m",
    "pycharm": {
     "name": "#%% md\n"
    }
   },
   "source": [
    "# Artificial Neural Networks"
   ]
  },
  {
   "cell_type": "code",
   "execution_count": null,
   "metadata": {
    "id": "SpdOx1vu11FS",
    "pycharm": {
     "name": "#%%\n"
    }
   },
   "outputs": [],
   "source": [
    "from keras import models, layers"
   ]
  },
  {
   "cell_type": "code",
   "execution_count": null,
   "metadata": {
    "id": "GJupEmGN104Y",
    "pycharm": {
     "name": "#%%\n"
    }
   },
   "outputs": [],
   "source": [
    "network_model = models.Sequential()\n",
    "network_model.add(layers.Dense(512, activation=\"leaky_relu\", input_shape=(2*64*516,)))\n",
    "network_model.add(layers.Dense(128, activation=\"relu\", input_shape=(2*64*516,)))\n",
    "network_model.add(layers.Dense(3, activation=\"softmax\"))\n"
   ]
  },
  {
   "cell_type": "code",
   "execution_count": null,
   "metadata": {
    "id": "hxnlX_Yc10v-",
    "colab": {
     "base_uri": "https://localhost:8080/"
    },
    "outputId": "5498d5d6-e746-41c5-f8e0-e01a121e60e3",
    "pycharm": {
     "name": "#%%\n"
    }
   },
   "outputs": [],
   "source": [
    "network_model.summary()"
   ]
  },
  {
   "cell_type": "code",
   "execution_count": null,
   "metadata": {
    "id": "_DTRMYu710kr",
    "pycharm": {
     "name": "#%%\n"
    }
   },
   "outputs": [],
   "source": [
    "network_model.compile(optimizer=\"adam\", metrics=[\"accuracy\"], loss=\"categorical_crossentropy\")"
   ]
  },
  {
   "cell_type": "code",
   "execution_count": null,
   "metadata": {
    "colab": {
     "base_uri": "https://localhost:8080/"
    },
    "id": "s4ki2Jvu10WB",
    "outputId": "9bf4ecd9-4b4e-47a5-a9fb-44a8b653383e",
    "pycharm": {
     "name": "#%%\n"
    }
   },
   "outputs": [],
   "source": [
    "x = x.reshape(26, 2*64*516)\n",
    "x = x.astype(float)/255 #standardisation - line starts from origin \n",
    "print(x.shape)\n",
    "print(y.shape)"
   ]
  },
  {
   "cell_type": "markdown",
   "metadata": {
    "id": "TZ9RhVBA7rJU",
    "pycharm": {
     "name": "#%% md\n"
    }
   },
   "source": []
  },
  {
   "cell_type": "code",
   "execution_count": null,
   "metadata": {
    "id": "LWCV3nDl3NEh",
    "colab": {
     "base_uri": "https://localhost:8080/"
    },
    "outputId": "3b15289c-a096-4b0f-c13b-e960048ebeda",
    "pycharm": {
     "name": "#%%\n"
    }
   },
   "outputs": [],
   "source": [
    "y\n"
   ]
  },
  {
   "cell_type": "code",
   "execution_count": null,
   "metadata": {
    "id": "w8n8BR3o49kb",
    "pycharm": {
     "name": "#%%\n"
    }
   },
   "outputs": [],
   "source": [
    "##preprocessing the labels data\n",
    "from keras.utils.np_utils import to_categorical\n",
    "\n",
    "#one hot encoding\n",
    "y = to_categorical(y)"
   ]
  },
  {
   "cell_type": "code",
   "execution_count": null,
   "metadata": {
    "id": "0yPJTUKK8U8F",
    "colab": {
     "base_uri": "https://localhost:8080/"
    },
    "outputId": "13ef4492-0245-4490-c6fc-ba9f443f7bf7",
    "pycharm": {
     "name": "#%%\n"
    }
   },
   "outputs": [],
   "source": [
    "y"
   ]
  },
  {
   "cell_type": "code",
   "execution_count": null,
   "metadata": {
    "id": "-Sbprvrb5A2n",
    "colab": {
     "base_uri": "https://localhost:8080/"
    },
    "outputId": "ca93333b-2b09-4183-fc02-7eeebf05d25d",
    "pycharm": {
     "name": "#%%\n"
    }
   },
   "outputs": [],
   "source": [
    "print(x.shape) #m, nx\n",
    "print(y.shape) #m, no of classes"
   ]
  },
  {
   "cell_type": "code",
   "execution_count": null,
   "metadata": {
    "id": "6YlwdwcA10L5",
    "colab": {
     "base_uri": "https://localhost:8080/"
    },
    "outputId": "0dfd020c-a643-4d29-8a10-a8c0fe2aa9d2",
    "pycharm": {
     "name": "#%%\n"
    }
   },
   "outputs": [],
   "source": [
    "network_model.fit(x, y, epochs=15)"
   ]
  },
  {
   "cell_type": "code",
   "execution_count": null,
   "outputs": [],
   "source": [
    "check_dir = r\"C:\\Users\\Siddhant\\Downloads\\Musical instruments\\checking\"\n",
    "check_spectrograms  = data_processing(check_dir) #cls id = 0\n",
    "check_arr_list = []\n",
    "for i in check_spectrograms:\n",
    "  arr = i.numpy()\n",
    "  check_arr_list.append(arr)\n",
    "check_arr = np.array(check_arr_list)\n",
    "print(check_arr.shape)\n",
    "\n",
    "\n",
    "\n"
   ],
   "metadata": {
    "collapsed": false,
    "pycharm": {
     "name": "#%%\n"
    }
   }
  }
 ],
 "metadata": {
  "colab": {
   "collapsed_sections": [],
   "provenance": []
  },
  "kernelspec": {
   "display_name": "Python 3",
   "name": "python3"
  },
  "language_info": {
   "name": "python"
  }
 },
 "nbformat": 4,
 "nbformat_minor": 0
}